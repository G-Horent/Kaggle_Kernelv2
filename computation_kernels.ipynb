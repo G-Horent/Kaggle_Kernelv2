{
 "cells": [
  {
   "cell_type": "code",
   "execution_count": 2,
   "metadata": {},
   "outputs": [],
   "source": [
    "import numpy as np\n",
    "import matplotlib.pyplot as plt\n",
    "from data import load_training_data, load_test_data, split_data\n",
    "import networkx as nx\n",
    "import time, datetime\n",
    "from utils import plot_graph\n",
    "\n",
    "from n_walk import product_graph, graph_product, graph_product_el, get_labels_nodes\n",
    "import kernel_class as kc\n",
    "import kernel_methods as km\n",
    "\n",
    "from importlib import reload"
   ]
  },
  {
   "cell_type": "code",
   "execution_count": 6,
   "metadata": {},
   "outputs": [],
   "source": [
    "split_list, split_idx = split_data(n_splits=3, return_indices=True)\n",
    "submi_graphs = load_test_data()\n",
    "\n",
    "sub_graphs, sub_labels = split_list[1]\n",
    "sub_idx = split_idx[1]\n",
    "lower_submi = sub_graphs[1000:]"
   ]
  },
  {
   "cell_type": "code",
   "execution_count": 7,
   "metadata": {},
   "outputs": [],
   "source": [
    "# rwk_pepin = kc.RandomWalkKernel(lam=0.95, save_kernel=True) #norm1=True, norm2=False, exclude_intruding_nodes=True, exclude_lonely_nodes=False, fast=True, max_iter=100\n",
    "rwk_palou = kc.RandomWalkKernel(lam=0.95, save_kernel=True) #norm1=True, norm2=False, exclude_intruding_nodes=True, exclude_lonely_nodes=False, fast=True, max_iter=100"
   ]
  },
  {
   "cell_type": "code",
   "execution_count": 5,
   "metadata": {},
   "outputs": [],
   "source": [
    "# print(datetime.datetime.now())\n",
    "# pepin = rwk_pepin.compute_gram_matrix(sub_graphs)\n",
    "# print(datetime.datetime.now())"
   ]
  },
  {
   "cell_type": "code",
   "execution_count": 8,
   "metadata": {},
   "outputs": [
    {
     "name": "stdout",
     "output_type": "stream",
     "text": [
      "2023-04-11 08:49:14.697353\n"
     ]
    },
    {
     "name": "stderr",
     "output_type": "stream",
     "text": [
      "100%|██████████| 1000/1000 [1:33:41<00:00,  5.62s/it]\n"
     ]
    },
    {
     "name": "stdout",
     "output_type": "stream",
     "text": [
      "2023-04-11 10:23:18.883811\n"
     ]
    }
   ],
   "source": [
    "print(datetime.datetime.now())\n",
    "palou = rwk_palou.compute_outer_gram(lower_submi, sub_graphs, save_suf=\"3_subsets_1submi_lower\")\n",
    "now_str = datetime.datetime.now().strftime(\"%m%d_%H%M%S%f\")\n",
    "np.save(f\"saved/RandomWalkKernel_outer_3_subsets_1submi_lower_{now_str}_idx_submi.npy\", lower_submi)\n",
    "np.save(f\"saved/RandomWalkKernel_outer_3_subsets_1submi_lower_{now_str}_idx_train.npy\", sub_graphs)\n",
    "print(datetime.datetime.now())"
   ]
  }
 ],
 "metadata": {
  "kernelspec": {
   "display_name": "Python 3",
   "language": "python",
   "name": "python3"
  },
  "language_info": {
   "codemirror_mode": {
    "name": "ipython",
    "version": 3
   },
   "file_extension": ".py",
   "mimetype": "text/x-python",
   "name": "python",
   "nbconvert_exporter": "python",
   "pygments_lexer": "ipython3",
   "version": "3.7.3"
  },
  "orig_nbformat": 4
 },
 "nbformat": 4,
 "nbformat_minor": 2
}
